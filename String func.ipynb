{
 "cells": [
  {
   "cell_type": "code",
   "execution_count": null,
   "id": "b34b7efe",
   "metadata": {},
   "outputs": [
    {
     "name": "stdout",
     "output_type": "stream",
     "text": [
      "String Functions\n",
      "1.Swapcase\n",
      "2.title\n",
      "3.Zfill\n",
      "4.isdecimal\n",
      "5.islower\n",
      "6.split\n",
      "7.Capitalize\n",
      "8.count\n",
      "9.rjust\n",
      "10.rstrip\n"
     ]
    }
   ],
   "source": [
    "def swapcase(input_string):\n",
    "    return input_string.swapcase()\n",
    "def title(input_string):\n",
    "    return input_string.title()\n",
    "def Zfill(input_string):\n",
    "    return input_string.Zfill()\n",
    "def isdecimal(input_string):\n",
    "    return input_string.isdecimal()\n",
    "def islower(input_string):\n",
    "    return input_string.islower()\n",
    "def split(input_string):\n",
    "    return input_string.split()\n",
    "def Capitalize(input_string):\n",
    "    return input_string.Capitalize()\n",
    "def count(input_string):\n",
    "    return input_string.count()\n",
    "def rjust(input_string):\n",
    "    return input_string.rjust()\n",
    "def rstrip(input_string):\n",
    "    return input_string.rstrip()\n",
    "while True:\n",
    "    print(\"String Functions\")\n",
    "    print(\"1.Swapcase\")\n",
    "    print(\"2.title\")\n",
    "    print(\"3.Zfill\")\n",
    "    print(\"4.isdecimal\")\n",
    "    print(\"5.islower\")\n",
    "    print(\"6.split\")\n",
    "    print(\"7.Capitalize\")\n",
    "    print(\"8.count\")\n",
    "    print(\"9.rjust\")\n",
    "    print(\"10.rstrip\")\n",
    "    choice=int(input(\"Enter the function number(1-10):\"))\n",
    "    input_string=input(\"Enter the string:\")\n",
    "    if choice==1:\n",
    "        print(swapcase(input_string))\n",
    "    elif choice==2:\n",
    "        print(title(input_string))\n",
    "    elif choice==3:\n",
    "        print(Zfill(input_string))\n",
    "    elif choice==4:\n",
    "            print(isdecimal(input_string))\n",
    "    elif choice==5:\n",
    "        print(islower(input_string))\n",
    "    elif choice==6:\n",
    "        print(split(input_string))\n",
    "    elif choice==7:\n",
    "        print(Capitalize(input_string))\n",
    "    elif choice==8:\n",
    "        print(count(input_string))\n",
    "    elif choice==9:\n",
    "        print(rjust(input_string))\n",
    "    elif choice==10:\n",
    "        print(rstrip(input_string))\n",
    "    else:\n",
    "        print(\"Invalid choice.Please enter a number between 1 to 10\")\n",
    "    continue_pgrm=input(\"Do you want to continue?(Yes/No):\")\n",
    "    if continue_pgrm.lower()!='Yes':\n",
    "        break\n"
   ]
  },
  {
   "cell_type": "code",
   "execution_count": null,
   "id": "d9ad3301",
   "metadata": {},
   "outputs": [],
   "source": []
  }
 ],
 "metadata": {
  "kernelspec": {
   "display_name": "Python 3 (ipykernel)",
   "language": "python",
   "name": "python3"
  },
  "language_info": {
   "codemirror_mode": {
    "name": "ipython",
    "version": 3
   },
   "file_extension": ".py",
   "mimetype": "text/x-python",
   "name": "python",
   "nbconvert_exporter": "python",
   "pygments_lexer": "ipython3",
   "version": "3.9.13"
  }
 },
 "nbformat": 4,
 "nbformat_minor": 5
}
