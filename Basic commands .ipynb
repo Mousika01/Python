{
 "cells": [
  {
   "cell_type": "code",
   "execution_count": 6,
   "id": "6e88df38",
   "metadata": {},
   "outputs": [
    {
     "name": "stdout",
     "output_type": "stream",
     "text": [
      "Enter the number10\n",
      "Enter the number30\n",
      "Enter the number20\n",
      "b is greater\n"
     ]
    }
   ],
   "source": [
    "a=int(input(\"Enter the number\"))\n",
    "b=int(input(\"Enter the number\"))\n",
    "c=int(input(\"Enter the number\"))\n",
    "if a>b and a>c:\n",
    "    print(\"a is larger\")\n",
    "elif b>c and b>a:\n",
    "    print(\"b is greater\")\n",
    "else:\n",
    "    print(\"c is greater\")"
   ]
  },
  {
   "cell_type": "code",
   "execution_count": 11,
   "id": "eeaf21ab",
   "metadata": {},
   "outputs": [
    {
     "name": "stdout",
     "output_type": "stream",
     "text": [
      "Enter the number:0\n",
      "Invalid number\n"
     ]
    }
   ],
   "source": [
    "a=int(input(\"Enter the number:\"))\n",
    "if(a!=0):\n",
    "    b=1\n",
    "    for i in range(1,a+1):\n",
    "        b*=i\n",
    "    print(b)\n",
    "else:\n",
    "    print(\"Invalid number\")"
   ]
  },
  {
   "cell_type": "code",
   "execution_count": 12,
   "id": "d53d4710",
   "metadata": {},
   "outputs": [
    {
     "name": "stdout",
     "output_type": "stream",
     "text": [
      "Number 1 appears 2 times in list\n",
      "Number 2 appears 3 times in list\n",
      "Number 3 appears 2 times in list\n",
      "Number 4 appears 2 times in list\n",
      "Number 5 appears 1 times in list\n"
     ]
    }
   ],
   "source": [
    "list=[1,2,3,2,1,3,2,4,5,4]\n",
    "count={}\n",
    "for i in list:\n",
    "    if i in count:\n",
    "        count[i]+=1\n",
    "    else:\n",
    "        count[i]=1\n",
    "for i,count in count.items():\n",
    "    print(f\"Number {i} appears {count} times in list\")"
   ]
  },
  {
   "cell_type": "code",
   "execution_count": 14,
   "id": "7fcf2d42",
   "metadata": {},
   "outputs": [
    {
     "name": "stdout",
     "output_type": "stream",
     "text": [
      "Enter your name:MOUSIKA\n",
      "OUSIK\n"
     ]
    }
   ],
   "source": [
    "a=input(\"Enter your name:\")\n",
    "print(a[1:6])"
   ]
  },
  {
   "cell_type": "code",
   "execution_count": 15,
   "id": "85a30fb9",
   "metadata": {},
   "outputs": [
    {
     "name": "stdout",
     "output_type": "stream",
     "text": [
      "Enter the number:10\n",
      "1\n",
      "2\n",
      "3\n",
      "5\n",
      "8\n",
      "13\n",
      "21\n",
      "34\n"
     ]
    }
   ],
   "source": [
    "a=int(input(\"Enter the number:\"))\n",
    "n1=0\n",
    "n2=1\n",
    "count=2\n",
    "while(count<a):\n",
    "    n3=n1+n2\n",
    "    print(n3)\n",
    "    n1=n2\n",
    "    n2=n3\n",
    "    count=count+1"
   ]
  },
  {
   "cell_type": "code",
   "execution_count": null,
   "id": "0b1b2094",
   "metadata": {},
   "outputs": [],
   "source": []
  }
 ],
 "metadata": {
  "kernelspec": {
   "display_name": "Python 3 (ipykernel)",
   "language": "python",
   "name": "python3"
  },
  "language_info": {
   "codemirror_mode": {
    "name": "ipython",
    "version": 3
   },
   "file_extension": ".py",
   "mimetype": "text/x-python",
   "name": "python",
   "nbconvert_exporter": "python",
   "pygments_lexer": "ipython3",
   "version": "3.11.5"
  }
 },
 "nbformat": 4,
 "nbformat_minor": 5
}
